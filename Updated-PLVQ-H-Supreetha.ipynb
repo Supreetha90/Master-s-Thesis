{
 "cells": [
  {
   "cell_type": "markdown",
   "metadata": {},
   "source": [
    "load scientific libraries"
   ]
  },
  {
   "cell_type": "code",
   "execution_count": 2,
   "metadata": {},
   "outputs": [],
   "source": [
    "import pandas as pd\n",
    "import numpy as np\n",
    "from math import sqrt\n",
    "from math import pi\n",
    "from math import exp\n",
    "import matplotlib.pyplot as plt\n",
    "import seaborn as sns"
   ]
  },
  {
   "cell_type": "markdown",
   "metadata": {},
   "source": [
    "load Iris dataset"
   ]
  },
  {
   "cell_type": "code",
   "execution_count": 4,
   "metadata": {},
   "outputs": [
    {
     "data": {
      "text/html": [
       "<div>\n",
       "<style scoped>\n",
       "    .dataframe tbody tr th:only-of-type {\n",
       "        vertical-align: middle;\n",
       "    }\n",
       "\n",
       "    .dataframe tbody tr th {\n",
       "        vertical-align: top;\n",
       "    }\n",
       "\n",
       "    .dataframe thead th {\n",
       "        text-align: right;\n",
       "    }\n",
       "</style>\n",
       "<table border=\"1\" class=\"dataframe\">\n",
       "  <thead>\n",
       "    <tr style=\"text-align: right;\">\n",
       "      <th></th>\n",
       "      <th>sepal_length</th>\n",
       "      <th>sepal_width</th>\n",
       "      <th>petal_length</th>\n",
       "      <th>petal_width</th>\n",
       "      <th>species</th>\n",
       "    </tr>\n",
       "  </thead>\n",
       "  <tbody>\n",
       "    <tr>\n",
       "      <th>0</th>\n",
       "      <td>5.1</td>\n",
       "      <td>3.5</td>\n",
       "      <td>1.4</td>\n",
       "      <td>0.2</td>\n",
       "      <td>setosa</td>\n",
       "    </tr>\n",
       "    <tr>\n",
       "      <th>1</th>\n",
       "      <td>4.9</td>\n",
       "      <td>3.0</td>\n",
       "      <td>1.4</td>\n",
       "      <td>0.2</td>\n",
       "      <td>setosa</td>\n",
       "    </tr>\n",
       "    <tr>\n",
       "      <th>2</th>\n",
       "      <td>4.7</td>\n",
       "      <td>3.2</td>\n",
       "      <td>1.3</td>\n",
       "      <td>0.2</td>\n",
       "      <td>setosa</td>\n",
       "    </tr>\n",
       "    <tr>\n",
       "      <th>3</th>\n",
       "      <td>4.6</td>\n",
       "      <td>3.1</td>\n",
       "      <td>1.5</td>\n",
       "      <td>0.2</td>\n",
       "      <td>setosa</td>\n",
       "    </tr>\n",
       "    <tr>\n",
       "      <th>4</th>\n",
       "      <td>5.0</td>\n",
       "      <td>3.6</td>\n",
       "      <td>1.4</td>\n",
       "      <td>0.2</td>\n",
       "      <td>setosa</td>\n",
       "    </tr>\n",
       "  </tbody>\n",
       "</table>\n",
       "</div>"
      ],
      "text/plain": [
       "   sepal_length  sepal_width  petal_length  petal_width species\n",
       "0           5.1          3.5           1.4          0.2  setosa\n",
       "1           4.9          3.0           1.4          0.2  setosa\n",
       "2           4.7          3.2           1.3          0.2  setosa\n",
       "3           4.6          3.1           1.5          0.2  setosa\n",
       "4           5.0          3.6           1.4          0.2  setosa"
      ]
     },
     "execution_count": 4,
     "metadata": {},
     "output_type": "execute_result"
    }
   ],
   "source": [
    "df = pd.read_csv(\"/Users/User/Desktop/Iris_dataset.csv\")\n",
    "df.head()"
   ]
  },
  {
   "cell_type": "markdown",
   "metadata": {},
   "source": [
    "load wheat seeds dataset"
   ]
  },
  {
   "cell_type": "code",
   "execution_count": 5,
   "metadata": {},
   "outputs": [
    {
     "data": {
      "text/html": [
       "<div>\n",
       "<style scoped>\n",
       "    .dataframe tbody tr th:only-of-type {\n",
       "        vertical-align: middle;\n",
       "    }\n",
       "\n",
       "    .dataframe tbody tr th {\n",
       "        vertical-align: top;\n",
       "    }\n",
       "\n",
       "    .dataframe thead th {\n",
       "        text-align: right;\n",
       "    }\n",
       "</style>\n",
       "<table border=\"1\" class=\"dataframe\">\n",
       "  <thead>\n",
       "    <tr style=\"text-align: right;\">\n",
       "      <th></th>\n",
       "      <th>area</th>\n",
       "      <th>perimeter</th>\n",
       "      <th>compactness</th>\n",
       "      <th>length_of_kernel</th>\n",
       "      <th>width_of_kernel</th>\n",
       "      <th>asymmetry_coefficient</th>\n",
       "      <th>length_of_kernel_groove</th>\n",
       "      <th>types_of_wheat_seeds</th>\n",
       "    </tr>\n",
       "  </thead>\n",
       "  <tbody>\n",
       "    <tr>\n",
       "      <th>0</th>\n",
       "      <td>15.26</td>\n",
       "      <td>14.84</td>\n",
       "      <td>0.8710</td>\n",
       "      <td>5.763</td>\n",
       "      <td>3.312</td>\n",
       "      <td>2.221</td>\n",
       "      <td>5.220</td>\n",
       "      <td>1</td>\n",
       "    </tr>\n",
       "    <tr>\n",
       "      <th>1</th>\n",
       "      <td>14.88</td>\n",
       "      <td>14.57</td>\n",
       "      <td>0.8811</td>\n",
       "      <td>5.554</td>\n",
       "      <td>3.333</td>\n",
       "      <td>1.018</td>\n",
       "      <td>4.956</td>\n",
       "      <td>1</td>\n",
       "    </tr>\n",
       "    <tr>\n",
       "      <th>2</th>\n",
       "      <td>14.29</td>\n",
       "      <td>14.09</td>\n",
       "      <td>0.9050</td>\n",
       "      <td>5.291</td>\n",
       "      <td>3.337</td>\n",
       "      <td>2.699</td>\n",
       "      <td>4.825</td>\n",
       "      <td>1</td>\n",
       "    </tr>\n",
       "    <tr>\n",
       "      <th>3</th>\n",
       "      <td>13.84</td>\n",
       "      <td>13.94</td>\n",
       "      <td>0.8955</td>\n",
       "      <td>5.324</td>\n",
       "      <td>3.379</td>\n",
       "      <td>2.259</td>\n",
       "      <td>4.805</td>\n",
       "      <td>1</td>\n",
       "    </tr>\n",
       "    <tr>\n",
       "      <th>4</th>\n",
       "      <td>16.14</td>\n",
       "      <td>14.99</td>\n",
       "      <td>0.9034</td>\n",
       "      <td>5.658</td>\n",
       "      <td>3.562</td>\n",
       "      <td>1.355</td>\n",
       "      <td>5.175</td>\n",
       "      <td>1</td>\n",
       "    </tr>\n",
       "  </tbody>\n",
       "</table>\n",
       "</div>"
      ],
      "text/plain": [
       "    area  perimeter   compactness    length_of_kernel  width_of_kernel  \\\n",
       "0  15.26       14.84        0.8710              5.763            3.312   \n",
       "1  14.88       14.57        0.8811              5.554            3.333   \n",
       "2  14.29       14.09        0.9050              5.291            3.337   \n",
       "3  13.84       13.94        0.8955              5.324            3.379   \n",
       "4  16.14       14.99        0.9034              5.658            3.562   \n",
       "\n",
       "   asymmetry_coefficient  length_of_kernel_groove  types_of_wheat_seeds  \n",
       "0                  2.221                    5.220                     1  \n",
       "1                  1.018                    4.956                     1  \n",
       "2                  2.699                    4.825                     1  \n",
       "3                  2.259                    4.805                     1  \n",
       "4                  1.355                    5.175                     1  "
      ]
     },
     "execution_count": 5,
     "metadata": {},
     "output_type": "execute_result"
    }
   ],
   "source": [
    "df1 = pd.read_csv(\"/Users/User/Desktop/Seeds1_dataset.csv\", encoding='latin1')\n",
    "df1.head()"
   ]
  },
  {
   "cell_type": "markdown",
   "metadata": {},
   "source": [
    "convert categorical class labels of Iris to numeric class labels"
   ]
  },
  {
   "cell_type": "code",
   "execution_count": 6,
   "metadata": {},
   "outputs": [
    {
     "data": {
      "text/html": [
       "<div>\n",
       "<style scoped>\n",
       "    .dataframe tbody tr th:only-of-type {\n",
       "        vertical-align: middle;\n",
       "    }\n",
       "\n",
       "    .dataframe tbody tr th {\n",
       "        vertical-align: top;\n",
       "    }\n",
       "\n",
       "    .dataframe thead th {\n",
       "        text-align: right;\n",
       "    }\n",
       "</style>\n",
       "<table border=\"1\" class=\"dataframe\">\n",
       "  <thead>\n",
       "    <tr style=\"text-align: right;\">\n",
       "      <th></th>\n",
       "      <th>sepal_length</th>\n",
       "      <th>sepal_width</th>\n",
       "      <th>petal_length</th>\n",
       "      <th>petal_width</th>\n",
       "      <th>species</th>\n",
       "    </tr>\n",
       "  </thead>\n",
       "  <tbody>\n",
       "    <tr>\n",
       "      <th>0</th>\n",
       "      <td>5.1</td>\n",
       "      <td>3.5</td>\n",
       "      <td>1.4</td>\n",
       "      <td>0.2</td>\n",
       "      <td>0</td>\n",
       "    </tr>\n",
       "    <tr>\n",
       "      <th>1</th>\n",
       "      <td>4.9</td>\n",
       "      <td>3.0</td>\n",
       "      <td>1.4</td>\n",
       "      <td>0.2</td>\n",
       "      <td>0</td>\n",
       "    </tr>\n",
       "    <tr>\n",
       "      <th>2</th>\n",
       "      <td>4.7</td>\n",
       "      <td>3.2</td>\n",
       "      <td>1.3</td>\n",
       "      <td>0.2</td>\n",
       "      <td>0</td>\n",
       "    </tr>\n",
       "    <tr>\n",
       "      <th>3</th>\n",
       "      <td>4.6</td>\n",
       "      <td>3.1</td>\n",
       "      <td>1.5</td>\n",
       "      <td>0.2</td>\n",
       "      <td>0</td>\n",
       "    </tr>\n",
       "    <tr>\n",
       "      <th>4</th>\n",
       "      <td>5.0</td>\n",
       "      <td>3.6</td>\n",
       "      <td>1.4</td>\n",
       "      <td>0.2</td>\n",
       "      <td>0</td>\n",
       "    </tr>\n",
       "  </tbody>\n",
       "</table>\n",
       "</div>"
      ],
      "text/plain": [
       "   sepal_length  sepal_width  petal_length  petal_width  species\n",
       "0           5.1          3.5           1.4          0.2        0\n",
       "1           4.9          3.0           1.4          0.2        0\n",
       "2           4.7          3.2           1.3          0.2        0\n",
       "3           4.6          3.1           1.5          0.2        0\n",
       "4           5.0          3.6           1.4          0.2        0"
      ]
     },
     "execution_count": 6,
     "metadata": {},
     "output_type": "execute_result"
    }
   ],
   "source": [
    "data=df.replace(to_replace=['setosa', 'versicolor', 'virginica'], value=[0, 1, 2])\n",
    "data.head()"
   ]
  },
  {
   "cell_type": "markdown",
   "metadata": {},
   "source": [
    "choose prototypes randomly"
   ]
  },
  {
   "cell_type": "code",
   "execution_count": 30,
   "metadata": {},
   "outputs": [
    {
     "data": {
      "text/html": [
       "<div>\n",
       "<style scoped>\n",
       "    .dataframe tbody tr th:only-of-type {\n",
       "        vertical-align: middle;\n",
       "    }\n",
       "\n",
       "    .dataframe tbody tr th {\n",
       "        vertical-align: top;\n",
       "    }\n",
       "\n",
       "    .dataframe thead th {\n",
       "        text-align: right;\n",
       "    }\n",
       "</style>\n",
       "<table border=\"1\" class=\"dataframe\">\n",
       "  <thead>\n",
       "    <tr style=\"text-align: right;\">\n",
       "      <th></th>\n",
       "      <th>sepal_length</th>\n",
       "      <th>sepal_width</th>\n",
       "      <th>petal_length</th>\n",
       "      <th>petal_width</th>\n",
       "      <th>species</th>\n",
       "    </tr>\n",
       "  </thead>\n",
       "  <tbody>\n",
       "    <tr>\n",
       "      <th>3</th>\n",
       "      <td>4.6</td>\n",
       "      <td>3.1</td>\n",
       "      <td>1.5</td>\n",
       "      <td>0.2</td>\n",
       "      <td>0</td>\n",
       "    </tr>\n",
       "    <tr>\n",
       "      <th>146</th>\n",
       "      <td>6.3</td>\n",
       "      <td>2.5</td>\n",
       "      <td>5.0</td>\n",
       "      <td>1.9</td>\n",
       "      <td>2</td>\n",
       "    </tr>\n",
       "    <tr>\n",
       "      <th>130</th>\n",
       "      <td>7.4</td>\n",
       "      <td>2.8</td>\n",
       "      <td>6.1</td>\n",
       "      <td>1.9</td>\n",
       "      <td>2</td>\n",
       "    </tr>\n",
       "    <tr>\n",
       "      <th>41</th>\n",
       "      <td>4.5</td>\n",
       "      <td>2.3</td>\n",
       "      <td>1.3</td>\n",
       "      <td>0.3</td>\n",
       "      <td>0</td>\n",
       "    </tr>\n",
       "    <tr>\n",
       "      <th>10</th>\n",
       "      <td>5.4</td>\n",
       "      <td>3.7</td>\n",
       "      <td>1.5</td>\n",
       "      <td>0.2</td>\n",
       "      <td>0</td>\n",
       "    </tr>\n",
       "    <tr>\n",
       "      <th>30</th>\n",
       "      <td>4.8</td>\n",
       "      <td>3.1</td>\n",
       "      <td>1.6</td>\n",
       "      <td>0.2</td>\n",
       "      <td>0</td>\n",
       "    </tr>\n",
       "    <tr>\n",
       "      <th>54</th>\n",
       "      <td>6.5</td>\n",
       "      <td>2.8</td>\n",
       "      <td>4.6</td>\n",
       "      <td>1.5</td>\n",
       "      <td>1</td>\n",
       "    </tr>\n",
       "    <tr>\n",
       "      <th>63</th>\n",
       "      <td>6.1</td>\n",
       "      <td>2.9</td>\n",
       "      <td>4.7</td>\n",
       "      <td>1.4</td>\n",
       "      <td>1</td>\n",
       "    </tr>\n",
       "  </tbody>\n",
       "</table>\n",
       "</div>"
      ],
      "text/plain": [
       "     sepal_length  sepal_width  petal_length  petal_width  species\n",
       "3             4.6          3.1           1.5          0.2        0\n",
       "146           6.3          2.5           5.0          1.9        2\n",
       "130           7.4          2.8           6.1          1.9        2\n",
       "41            4.5          2.3           1.3          0.3        0\n",
       "10            5.4          3.7           1.5          0.2        0\n",
       "30            4.8          3.1           1.6          0.2        0\n",
       "54            6.5          2.8           4.6          1.5        1\n",
       "63            6.1          2.9           4.7          1.4        1"
      ]
     },
     "execution_count": 30,
     "metadata": {},
     "output_type": "execute_result"
    }
   ],
   "source": [
    "prototypes = data.sample(n=8,replace=False) # for iris dataset\n",
    "#prototypes = df1.sample(n=8,replace=False) # for seeds dataset\n",
    "prototypes"
   ]
  },
  {
   "cell_type": "code",
   "execution_count": 31,
   "metadata": {},
   "outputs": [
    {
     "data": {
      "text/plain": [
       "(142, 5)"
      ]
     },
     "execution_count": 31,
     "metadata": {},
     "output_type": "execute_result"
    }
   ],
   "source": [
    "new_data = data.loc[set(data.index).symmetric_difference(set(prototypes.index))].dropna() # for iris\n",
    "#new_data = df1.loc[set(df1.index).symmetric_difference(set(prototypes.index))].dropna() # for seeds\n",
    "new_data.shape"
   ]
  },
  {
   "cell_type": "markdown",
   "metadata": {},
   "source": [
    "split data for training the model (train data)"
   ]
  },
  {
   "cell_type": "code",
   "execution_count": 32,
   "metadata": {},
   "outputs": [
    {
     "data": {
      "text/html": [
       "<div>\n",
       "<style scoped>\n",
       "    .dataframe tbody tr th:only-of-type {\n",
       "        vertical-align: middle;\n",
       "    }\n",
       "\n",
       "    .dataframe tbody tr th {\n",
       "        vertical-align: top;\n",
       "    }\n",
       "\n",
       "    .dataframe thead th {\n",
       "        text-align: right;\n",
       "    }\n",
       "</style>\n",
       "<table border=\"1\" class=\"dataframe\">\n",
       "  <thead>\n",
       "    <tr style=\"text-align: right;\">\n",
       "      <th></th>\n",
       "      <th>sepal_length</th>\n",
       "      <th>sepal_width</th>\n",
       "      <th>petal_length</th>\n",
       "      <th>petal_width</th>\n",
       "      <th>species</th>\n",
       "    </tr>\n",
       "  </thead>\n",
       "  <tbody>\n",
       "    <tr>\n",
       "      <th>119</th>\n",
       "      <td>6.0</td>\n",
       "      <td>2.2</td>\n",
       "      <td>5.0</td>\n",
       "      <td>1.5</td>\n",
       "      <td>2</td>\n",
       "    </tr>\n",
       "    <tr>\n",
       "      <th>76</th>\n",
       "      <td>6.8</td>\n",
       "      <td>2.8</td>\n",
       "      <td>4.8</td>\n",
       "      <td>1.4</td>\n",
       "      <td>1</td>\n",
       "    </tr>\n",
       "    <tr>\n",
       "      <th>44</th>\n",
       "      <td>5.1</td>\n",
       "      <td>3.8</td>\n",
       "      <td>1.9</td>\n",
       "      <td>0.4</td>\n",
       "      <td>0</td>\n",
       "    </tr>\n",
       "    <tr>\n",
       "      <th>13</th>\n",
       "      <td>4.3</td>\n",
       "      <td>3.0</td>\n",
       "      <td>1.1</td>\n",
       "      <td>0.1</td>\n",
       "      <td>0</td>\n",
       "    </tr>\n",
       "    <tr>\n",
       "      <th>1</th>\n",
       "      <td>4.9</td>\n",
       "      <td>3.0</td>\n",
       "      <td>1.4</td>\n",
       "      <td>0.2</td>\n",
       "      <td>0</td>\n",
       "    </tr>\n",
       "  </tbody>\n",
       "</table>\n",
       "</div>"
      ],
      "text/plain": [
       "     sepal_length  sepal_width  petal_length  petal_width  species\n",
       "119           6.0          2.2           5.0          1.5        2\n",
       "76            6.8          2.8           4.8          1.4        1\n",
       "44            5.1          3.8           1.9          0.4        0\n",
       "13            4.3          3.0           1.1          0.1        0\n",
       "1             4.9          3.0           1.4          0.2        0"
      ]
     },
     "execution_count": 32,
     "metadata": {},
     "output_type": "execute_result"
    }
   ],
   "source": [
    "train_data = new_data.sample(frac = 0.6)\n",
    "train_data.head()"
   ]
  },
  {
   "cell_type": "markdown",
   "metadata": {},
   "source": [
    "test data"
   ]
  },
  {
   "cell_type": "code",
   "execution_count": 33,
   "metadata": {},
   "outputs": [
    {
     "data": {
      "text/plain": [
       "(57, 5)"
      ]
     },
     "execution_count": 33,
     "metadata": {},
     "output_type": "execute_result"
    }
   ],
   "source": [
    "test_data = new_data.loc[set(new_data.index).symmetric_difference(set(train_data.index))].dropna()\n",
    "test_data.shape"
   ]
  },
  {
   "cell_type": "markdown",
   "metadata": {},
   "source": [
    "calculate the standard deviation and variance of the train data"
   ]
  },
  {
   "cell_type": "code",
   "execution_count": 34,
   "metadata": {},
   "outputs": [
    {
     "data": {
      "text/plain": [
       "array([0.69318768, 0.18485434, 3.3322605 , 0.58438375, 0.66722689])"
      ]
     },
     "execution_count": 34,
     "metadata": {},
     "output_type": "execute_result"
    }
   ],
   "source": [
    "std = train_data.std()\n",
    "std.shape\n",
    "var = train_data.var()\n",
    "np.array(var)"
   ]
  },
  {
   "cell_type": "markdown",
   "metadata": {},
   "source": [
    "define pdf of gaussian distribution"
   ]
  },
  {
   "cell_type": "code",
   "execution_count": 12,
   "metadata": {},
   "outputs": [],
   "source": [
    "def gaussian(train_data,prototypes,std):\n",
    "    d = (train_data[0:4] - prototypes[0:4])**2\n",
    "    pdf = np.prod((1/((std[0:4])*np.sqrt(np.pi*2)))*(np.exp(-d/(2*(std[0:4])))))\n",
    "    return pdf"
   ]
  },
  {
   "cell_type": "markdown",
   "metadata": {},
   "source": [
    "define pdf of logistic distribution"
   ]
  },
  {
   "cell_type": "code",
   "execution_count": 14,
   "metadata": {},
   "outputs": [],
   "source": [
    "def logistic(train_data,prototypes,std):\n",
    "    d = (train_data[0:4] - prototypes[0:4])**2\n",
    "    numerator = np.exp(-d/(std[0:4]))\n",
    "    denominator = std[0:4] * (1+numerator)**2\n",
    "    pdf = np.prod(numerator/denominator)\n",
    "    return pdf"
   ]
  },
  {
   "cell_type": "markdown",
   "metadata": {},
   "source": [
    "define pdf of lognormal pdf"
   ]
  },
  {
   "cell_type": "code",
   "execution_count": 15,
   "metadata": {},
   "outputs": [],
   "source": [
    "def lognormal(train_data,prototypes,std):\n",
    "    d = (np.log(train_data[0:4]) - prototypes[0:4])**2\n",
    "    pdf = np.prod((1/(train_data[0:4]*(std[0:4])*np.sqrt(np.pi*2)))*(np.exp(-d/(2*(std[0:4])**2))))\n",
    "    return pdf"
   ]
  },
  {
   "cell_type": "markdown",
   "metadata": {},
   "source": [
    "posterior probability of x assigned to prototype w_j w.r.t correct classes"
   ]
  },
  {
   "cell_type": "code",
   "execution_count": 16,
   "metadata": {},
   "outputs": [],
   "source": [
    "def postprobprotocc(x, prototypes,var):\n",
    "    p_cc = []\n",
    "    #n_prototypes = 1/prototypes.shape[0]\n",
    "    n_prototypes = 1/6\n",
    "    for id2, w in enumerate(np.array(prototypes)):\n",
    "        if w[-1] == x[-1]:\n",
    "            #pdf1 = gaussian(x,w,np.array(var)) * n_prototypes\n",
    "            pdf1 = logistic(x,w,np.array(var)) * n_prototypes\n",
    "            #pdf1 = lognormal(x,w,np.array(var)) * n_prototypes\n",
    "            p_cc.append(pdf1)\n",
    "    return sum(p_cc)"
   ]
  },
  {
   "cell_type": "markdown",
   "metadata": {},
   "source": [
    "posterior probability of x assigned to prototype w_j w.r.t all classes"
   ]
  },
  {
   "cell_type": "code",
   "execution_count": 18,
   "metadata": {},
   "outputs": [],
   "source": [
    "def postprobprotoac(x, prototypes,var):\n",
    "    p_ac = []\n",
    "    #n_prototypes = 1/prototypes.shape[0]\n",
    "    n_prototypes = 1/6\n",
    "    for id2, w in enumerate(np.array(prototypes)):\n",
    "            #pdf2 = gaussian(x,w,np.array(var)) * n_prototypes\n",
    "            pdf2 = logistic(x,w,np.array(var)) * n_prototypes\n",
    "            #pdf2 = lognormal(x,w,np.array(var)) * n_prototypes\n",
    "            p_ac.append(pdf2)\n",
    "    return sum(p_ac)"
   ]
  },
  {
   "cell_type": "markdown",
   "metadata": {},
   "source": [
    "define update rule for prototypes"
   ]
  },
  {
   "cell_type": "code",
   "execution_count": 46,
   "metadata": {},
   "outputs": [],
   "source": [
    "def updaterule(train_data, prototypes, var, alpha):\n",
    "    epochs = 10\n",
    "    #alpha = 0.3\n",
    "    s=1\n",
    "    #n_prototypes = 1/prototypes.shape[0]\n",
    "    n_prototypes = 1/6\n",
    "    #for id1, epo in enumerate(range(epochs)):\n",
    "        #alpha = lrate * (1.0-(epo/epochs))\n",
    "    for id2, x in enumerate(np.array(train_data)):\n",
    "        max_log_ratio = []\n",
    "        new_weight = []\n",
    "        log_total = []\n",
    "        wprobcc = postprobprotocc(x, prototypes, var)\n",
    "        wprobac = postprobprotoac(x, prototypes, var)\n",
    "        for id3, w in enumerate(np.array(prototypes)):\n",
    "            #p_y = (gaussian(x,w,var)*n_prototypes)/wprobcc\n",
    "            #p = (gaussian(x,w,var)*n_prototypes)/wprobac\n",
    "            p_y = (logistic(x,w,var)*n_prototypes)/wprobcc\n",
    "            p = (logistic(x,w,var)*n_prototypes)/wprobac\n",
    "            #p_y = (lognormal(x,w,var)*n_prototypes)/wprobcc\n",
    "            #p = (lognormal(x,w,var)*n_prototypes)/wprobac\n",
    "                \n",
    "            if w[-1] == x[-1]:\n",
    "                #w[0:4] = w[0:4] + alpha * (p_y - p) * (x[0:4] - w[0:4]) #update rule with respect to Gaussian distribution\n",
    "                w[0:4] = w[0:4] + alpha * ((2 * (1-np.exp(-(x[0:4]-w[0:4])**2/s)))/(s**2 * (1+np.exp(-(x[0:4]-w[0:4])**2/s)**3))) *(p_y - p) * (x[0:4] - w[0:4]) #update rule with respect to logistic distribution\n",
    "                #w[0:4] = w[0:4] + (alpha/(var[0:4]*2*np.pi**2)) * (p_y - p) * (np.log(x[0:4]) - w[0:4])/x[0:4]**2\n",
    "                #w[0:4] = w[0:4] + (alpha/(var[0:4]*2*np.pi**2)) * (p_y - p) * (np.log(x[0:4]) - w[0:4])#update rule with respect to log-normal distribution\n",
    "                new_weight.append(w)\n",
    "            else:\n",
    "                w[0:4] = w[0:4] + alpha * 0 #for c(w_j) != c(x_k)\n",
    "                new_weight.append(w)\n",
    "        \n",
    "    return new_weight"
   ]
  },
  {
   "cell_type": "code",
   "execution_count": 48,
   "metadata": {},
   "outputs": [
    {
     "data": {
      "text/plain": [
       "[array([4.61315827, 3.09840123, 1.49840123, 0.19840123, 0.        ]),\n",
       " array([6.3, 2.5, 5. , 1.9, 2. ]),\n",
       " array([7.4, 2.8, 6.1, 1.9, 2. ]),\n",
       " array([4.51137942, 2.47133585, 1.30039243, 0.29677018, 0.        ]),\n",
       " array([5.3010322 , 3.53886367, 1.49963093, 0.19963093, 0.        ]),\n",
       " array([4.8       , 3.09839996, 1.58683122, 0.19839996, 0.        ]),\n",
       " array([6.5, 2.8, 4.6, 1.5, 1. ]),\n",
       " array([6.1, 2.9, 4.7, 1.4, 1. ])]"
      ]
     },
     "execution_count": 48,
     "metadata": {},
     "output_type": "execute_result"
    }
   ],
   "source": [
    "new_weights = updaterule(train_data, prototypes, var,alpha=1000)\n",
    "new_weights"
   ]
  },
  {
   "cell_type": "markdown",
   "metadata": {},
   "source": [
    "define cost function"
   ]
  },
  {
   "cell_type": "code",
   "execution_count": 37,
   "metadata": {},
   "outputs": [],
   "source": [
    "def costfunction(train_data,prototypes,var):\n",
    "    epochs = 10\n",
    "    lrate = 0.3\n",
    "    for id1, epo in enumerate(range(epochs)):\n",
    "        alpha = lrate * (1.0-(epo/epochs))\n",
    "        log_total = []\n",
    "        new_weights = updaterule(train_data, prototypes, var, alpha)\n",
    "        for i1, ro in enumerate(np.array(train_data)):\n",
    "            n_prototypes = 1/6\n",
    "            #new_weights = updaterule(train_data, prototypes, var)\n",
    "            #new_weights = updaterule(ro, prototypes, var)\n",
    "            p_x_c_w = postprobprotocc(ro, new_weights, var)\n",
    "            p_x_a_c_w = postprobprotoac(ro, new_weights, var)\n",
    "            log_ratio = np.log(p_x_c_w/p_x_a_c_w)\n",
    "            log_total.append(log_ratio)\n",
    "            cost_res = -sum(log_total)\n",
    "        print(id1,cost_res)\n",
    "        plt.plot(id1,cost_res,color=\"blue\",marker=\"*\")\n",
    "        plt.xlabel(\"epochs\")\n",
    "        plt.ylabel(\"result of cost function\")\n",
    "        #print(i1,cost_res)\n",
    "    #plt.plot(i1,cost_res,'bo')\n",
    "plt.show()"
   ]
  },
  {
   "cell_type": "code",
   "execution_count": 38,
   "metadata": {},
   "outputs": [
    {
     "name": "stdout",
     "output_type": "stream",
     "text": [
      "0 30.35380389838943\n",
      "1 30.357233362655904\n",
      "2 30.360664580812596\n",
      "3 30.36409752867638\n",
      "4 30.367532182022202\n",
      "5 30.370968516583794\n",
      "6 30.37440650805407\n",
      "7 30.37784613208585\n",
      "8 30.38128736429242\n",
      "9 30.384730180248056\n"
     ]
    },
    {
     "data": {
      "image/png": "[encoded data removed]",
      "text/plain": [
       "<Figure size 432x288 with 1 Axes>"
      ]
     },
     "metadata": {},
     "output_type": "display_data"
    }
   ],
   "source": [
    "costfunction(train_data,prototypes,var)"
   ]
  },
  {
   "cell_type": "markdown",
   "metadata": {},
   "source": [
    "define predict function"
   ]
  },
  {
   "cell_type": "code",
   "execution_count": 40,
   "metadata": {},
   "outputs": [],
   "source": [
    "from sklearn.metrics import confusion_matrix\n",
    "def predict(train_data, new_weights, var):\n",
    "    n_prototypes = 1/6\n",
    "    actual = []\n",
    "    actual_gra = []\n",
    "    predicted = []\n",
    "    predicted_gra = []\n",
    "    correct = 0\n",
    "    wrong = 0\n",
    "    for ix1, row1 in enumerate(np.array(train_data)):\n",
    "        w_list = []\n",
    "        \n",
    "        wprobac = postprobprotoac(row1, new_weights, var)\n",
    "        wprobcc = postprobprotocc(row1, new_weights, var)\n",
    "        for ix2, row2 in enumerate(np.array(new_weights)):\n",
    "            #p_w_j_x = (gaussian(row1, row2, var)*n_prototypes)/wprobac\n",
    "            p_w_j_x = (logistic(row1, row2, var)*n_prototypes)/wprobac\n",
    "            #p_w_j_x = (lognormal(row1, row2, var)*n_prototypes)/wprobac\n",
    "            #p_w_j_x = wprobcc/wprobac\n",
    "            w_list.append([(p_w_j_x),ix1,row1,row2])\n",
    "        predict = max(w_list)\n",
    "        #actual.append([predict[1],predict[2][-1]])\n",
    "        actual.append(predict[2][-1])\n",
    "        actual_gra.append([predict[2],predict[3]])\n",
    "        #a1 = pd.DataFrame(actual_gra)\n",
    "        \n",
    "            #print(ix1,row1,ix2,row2,p_w_j_x)\n",
    "        #print(max(w_list))\n",
    "        if predict[2][-1] == predict[3][-1]:\n",
    "            correct +=1\n",
    "            #predicted.append([predict[1],predict[3][-1]])\n",
    "            predicted.append(predict[3][-1])\n",
    "            predicted_gra.append([predict[2],predict[3]])\n",
    "            \n",
    "            #plt.plot(prototypes['species'],'+')\n",
    "            #plt.plot(predict[1][:,-1],'*')\n",
    "        else:\n",
    "            wrong += 1\n",
    "            #predicted.append([predict[1],predict[3][-1]])\n",
    "            predicted.append(predict[3][-1])\n",
    "            predicted_gra.append([predict[2],predict[3]])\n",
    "        #plt.plot(row1[:,-1],'*')\n",
    "        #plt.plot(prototypes['species'],'*',color='y')\n",
    "        #plt.plot(predict[0],'+',color='r')\n",
    "        #plt.plot(predict[0],predict[2][-1])\n",
    "    #print(actual,predicted)\n",
    "    ##print(actual_gra,predicted_gra)\n",
    "    \n",
    "    print(\"Accuracy =\", (correct/ix1)*100)\n",
    "    cm = confusion_matrix(actual, predicted)\n",
    "    #plt.scatter(actual,predicted)\n",
    "    print(cm)\n",
    "plt.show()\n",
    "    "
   ]
  },
  {
   "cell_type": "code",
   "execution_count": 49,
   "metadata": {},
   "outputs": [
    {
     "name": "stdout",
     "output_type": "stream",
     "text": [
      "Accuracy = 88.09523809523809\n",
      "[[33  0  0]\n",
      " [ 0 27  1]\n",
      " [ 0 10 14]]\n"
     ]
    }
   ],
   "source": [
    "predict(train_data,new_weights,var)"
   ]
  },
  {
   "cell_type": "code",
   "execution_count": 42,
   "metadata": {},
   "outputs": [
    {
     "name": "stderr",
     "output_type": "stream",
     "text": [
      "C:\\Users\\User\\Anaconda3\\lib\\site-packages\\ipykernel_launcher.py:2: FutureWarning: 'pandas.tools.plotting.andrews_curves' is deprecated, import 'pandas.plotting.andrews_curves' instead.\n",
      "  \n"
     ]
    },
    {
     "data": {
      "text/plain": [
       "Text(0.5,1,'distribution of seeds trian_data with respect to class labels')"
      ]
     },
     "execution_count": 42,
     "metadata": {},
     "output_type": "execute_result"
    },
    {
     "data": {
      "image/png": "[encoded data removed]",
      "text/plain": [
       "<Figure size 432x288 with 1 Axes>"
      ]
     },
     "metadata": {},
     "output_type": "display_data"
    }
   ],
   "source": [
    "from pandas.tools.plotting import andrews_curves\n",
    "andrews_curves(train_data, \"species\")\n",
    "plt.title('distribution of iris trian_data with respect to class labels')"
   ]
  },
  {
   "cell_type": "code",
   "execution_count": 43,
   "metadata": {},
   "outputs": [
    {
     "name": "stderr",
     "output_type": "stream",
     "text": [
      "C:\\Users\\User\\Anaconda3\\lib\\site-packages\\ipykernel_launcher.py:1: FutureWarning: 'pandas.tools.plotting.andrews_curves' is deprecated, import 'pandas.plotting.andrews_curves' instead.\n",
      "  \"\"\"Entry point for launching an IPython kernel.\n"
     ]
    },
    {
     "data": {
      "text/plain": [
       "Text(0.5,1,'distribution of iris test_data with respect to class labels')"
      ]
     },
     "execution_count": 43,
     "metadata": {},
     "output_type": "execute_result"
    },
    {
     "data": {
      "image/png": "[encoded data removed]",
      "text/plain": [
       "<Figure size 432x288 with 1 Axes>"
      ]
     },
     "metadata": {},
     "output_type": "display_data"
    }
   ],
   "source": [
    "andrews_curves(test_data, \"species\")\n",
    "plt.title('distribution of iris test_data with respect to class labels')"
   ]
  },
  {
   "cell_type": "code",
   "execution_count": 44,
   "metadata": {},
   "outputs": [
    {
     "data": {
      "text/plain": [
       "array([[ 4.59923891,  3.09517621,  1.49928565, -1.51719766,  0.        ],\n",
       "       [ 6.3       ,  2.5       ,  5.        ,  1.9       ,  2.        ],\n",
       "       [ 7.4       ,  2.8       ,  6.1       ,  1.9       ,  2.        ],\n",
       "       [ 4.49981935,  2.29928924,  1.2998548 , -0.13834498,  0.        ],\n",
       "       [ 5.39977794,  3.6985526 ,  1.49983509, -0.19641053,  0.        ],\n",
       "       [ 4.79918805,  3.09517235,  1.59922363, -1.5185695 ,  0.        ],\n",
       "       [ 6.5       ,  2.8       ,  4.6       ,  1.5       ,  1.        ],\n",
       "       [ 6.1       ,  2.9       ,  4.7       ,  1.4       ,  1.        ]])"
      ]
     },
     "execution_count": 44,
     "metadata": {},
     "output_type": "execute_result"
    }
   ],
   "source": [
    "pt=np.array(new_weights)\n",
    "pt"
   ]
  },
  {
   "cell_type": "code",
   "execution_count": 45,
   "metadata": {},
   "outputs": [
    {
     "data": {
      "image/png": "[encoded data removed]",
      "text/plain": [
       "<Figure size 432x288 with 1 Axes>"
      ]
     },
     "metadata": {},
     "output_type": "display_data"
    }
   ],
   "source": [
    "plt.scatter(pt[:,0],pt[:,4],c='yellow',marker=\"+\")\n",
    "plt.scatter(pt[:,1],pt[:,4],c='yellow',marker=\"+\")\n",
    "plt.scatter(pt[:,2],pt[:,4],c='yellow',marker=\"+\")\n",
    "plt.scatter(pt[:,3],pt[:,4],c='yellow',marker=\"+\")\n",
    "\n",
    "plt.scatter(prototypes['sepal_length'],prototypes['species'],c=['r','g','b'],marker=\".\")\n",
    "plt.scatter(prototypes['sepal_width'],prototypes['species'],c=['r','g','b'],marker=\".\")\n",
    "plt.scatter(prototypes['petal_length'],prototypes['species'],c=['r','g','b'],marker=\".\")\n",
    "plt.scatter(prototypes['petal_width'],prototypes['species'],c=['r','g','b'],marker=\".\")\n",
    "plt.xlabel(\"prototypes_features\")\n",
    "plt.ylabel(\"prototypes_species\")\n",
    "plt.show()"
   ]
  },
  {
   "cell_type": "code",
   "execution_count": null,
   "metadata": {},
   "outputs": [],
   "source": []
  }
 ],
 "metadata": {
  "kernelspec": {
   "display_name": "Python 3",
   "language": "python",
   "name": "python3"
  },
  "language_info": {
   "codemirror_mode": {
    "name": "ipython",
    "version": 3
   },
   "file_extension": ".py",
   "mimetype": "text/x-python",
   "name": "python",
   "nbconvert_exporter": "python",
   "pygments_lexer": "ipython3",
   "version": "3.8.8"
  }
 },
 "nbformat": 4,
 "nbformat_minor": 2
}
